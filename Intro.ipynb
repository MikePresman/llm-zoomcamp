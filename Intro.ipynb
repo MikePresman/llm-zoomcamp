{
 "cells": [
  {
   "cell_type": "code",
   "execution_count": 14,
   "id": "78f2cc2a",
   "metadata": {},
   "outputs": [],
   "source": [
    "from openai import OpenAI"
   ]
  },
  {
   "cell_type": "code",
   "execution_count": 7,
   "id": "1e38c8f5",
   "metadata": {},
   "outputs": [],
   "source": [
    "import os\n",
    "import sys"
   ]
  },
  {
   "cell_type": "code",
   "execution_count": 12,
   "id": "fa5a3e8a",
   "metadata": {},
   "outputs": [],
   "source": [
    "if os.environ[\"OPENAI_API_KEY\"] is None:\n",
    "    print(\"NO KEY SET\")\n",
    "    sys.exit()"
   ]
  },
  {
   "cell_type": "code",
   "execution_count": 16,
   "id": "a59e3aec",
   "metadata": {},
   "outputs": [],
   "source": [
    "client = OpenAI()"
   ]
  },
  {
   "cell_type": "code",
   "execution_count": 19,
   "id": "db73b35f",
   "metadata": {},
   "outputs": [],
   "source": [
    "response = client.chat.completions.create(\n",
    "model = 'gpt-4o',\n",
    "messages =[{\"role\": \"user\", \"content\": \"is it too late to join the course\"}])"
   ]
  },
  {
   "cell_type": "code",
   "execution_count": 21,
   "id": "ac5275a7",
   "metadata": {},
   "outputs": [
    {
     "data": {
      "text/plain": [
       "\"I'm not sure which course you're referring to, but generally speaking, it depends on the specific course's enrollment policies and deadlines. Here are a few steps you can take to find out if it's too late to join:\\n\\n1. **Check the Course Website:** Look for enrollment deadlines or registration details.\\n   \\n2. **Contact the Instructor or Institution:** Reach out directly to ask if late enrollment is possible.\\n\\n3. **Look for Late Registration Options:** Some courses offer late registration or waitlist options.\\n\\n4. **Consider Future Sessions:** If it's too late for the current session, find out when the next offering will be.\\n\\nIf you have more details about the course, I might be able to provide more specific advice.\""
      ]
     },
     "execution_count": 21,
     "metadata": {},
     "output_type": "execute_result"
    }
   ],
   "source": [
    "response.choices[0].message.content"
   ]
  },
  {
   "cell_type": "code",
   "execution_count": null,
   "id": "eb03684f",
   "metadata": {},
   "outputs": [],
   "source": []
  }
 ],
 "metadata": {
  "kernelspec": {
   "display_name": "Python 3 (ipykernel)",
   "language": "python",
   "name": "python3"
  },
  "language_info": {
   "codemirror_mode": {
    "name": "ipython",
    "version": 3
   },
   "file_extension": ".py",
   "mimetype": "text/x-python",
   "name": "python",
   "nbconvert_exporter": "python",
   "pygments_lexer": "ipython3",
   "version": "3.12.9"
  }
 },
 "nbformat": 4,
 "nbformat_minor": 5
}
